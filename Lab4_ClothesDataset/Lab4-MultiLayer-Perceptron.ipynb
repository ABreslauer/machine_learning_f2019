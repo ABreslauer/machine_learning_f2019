{
 "cells": [
  {
   "cell_type": "markdown",
   "metadata": {},
   "source": [
    "<h1>Lab 4: Exploring Image Data</h1>"
   ]
  },
  {
   "cell_type": "markdown",
   "metadata": {},
   "source": [
    "<h1>Business Understanding</h1>\n",
    "<p>This program attempts to identify and categorize handwritten English letters. The eventual goal of this model would be for use in transcribing older documents to digital form, documents that are at risk of being lost because of their age, so that they can be preserved and accessible in the future. Interested parties would include museums and various religious sects, among others, who have a history with historical documents and wish to preserve them in the future. For all of those parties, accuracy in classifying letters is much more important than the speed at which the letters are classified, so this model is built to be highly accurate and care less about time taken."
   ]
  },
  {
   "cell_type": "code",
   "execution_count": 1,
   "metadata": {},
   "outputs": [],
   "source": [
    "import numpy as np\n",
    "import matplotlib.pyplot as plt\n",
    "from sklearn.metrics import accuracy_score\n",
    "from sklearn.preprocessing import StandardScaler\n",
    "from sklearn.pipeline import Pipeline\n",
    "import random\n",
    "import os\n",
    "# importing helperp (Code writtern as a script)\n",
    "# import helper\n",
    "import pandas as pd\n",
    "import warnings\n",
    "from sklearn.decomposition import PCA as RandomizedPCA\n",
    "import string\n",
    "import cv2\n",
    "from skimage import color\n",
    "from sklearn.model_selection import train_test_split\n",
    "warnings.simplefilter(\"ignore\")"
   ]
  },
  {
   "cell_type": "markdown",
   "metadata": {},
   "source": [
    "### 1.2 Data preparation\n",
    "\n",
    "Loading the test and training data. Functions defined in helper.py"
   ]
  },
  {
   "cell_type": "code",
   "execution_count": 2,
   "metadata": {},
   "outputs": [
    {
     "name": "stdout",
     "output_type": "stream",
     "text": [
      "Processing A\n",
      "Processing B\n",
      "Processing C\n",
      "Processing D\n",
      "Processing E\n",
      "Processing F\n",
      "Processing G\n",
      "Processing H\n",
      "Processing I\n",
      "Processing J\n",
      "Processing K\n",
      "Processing L\n",
      "Processing M\n",
      "Processing N\n",
      "Processing O\n",
      "Processing P\n",
      "Processing Q\n",
      "Processing R\n",
      "Processing S\n",
      "Processing T\n",
      "Processing U\n",
      "Processing V\n",
      "Processing W\n",
      "Processing X\n",
      "Processing Y\n",
      "Processing Z\n",
      "Total Images Processed: 26000\n"
     ]
    }
   ],
   "source": [
    "\"\"\"\n",
    "test_images, test_labels = helper.load_test_data()\n",
    "train_images, train_labels = helper.load_train_data()\n",
    "\n",
    "labels = { \n",
    "            0:'T-shirt/top',\n",
    "            1:'Trouser',\n",
    "            2:'Pullover',\n",
    "            3:'Dress',\n",
    "            4:'Coat',\n",
    "            5:'Sandal',\n",
    "            6:'Shirt',\n",
    "            7:'Sneaker',\n",
    "            8:'Bag',\n",
    "            9:'Ankle boot'\n",
    "            }\n",
    "h = 28\n",
    "w = 28\n",
    "# Let's varify that the data is loaded correctly\n",
    "print('Shape of train_images: ',train_images.shape)\n",
    "print('Shape of train_labels: ',train_labels.shape)\n",
    "print('Shape of test_images: ',test_images.shape)\n",
    "print('Shape of test_labels: ',test_labels.shape)\n",
    "\n",
    "# Load up a random image from training_images\n",
    "random_index = random.randrange(len(train_images))\n",
    "label_num_for_image = train_labels[random_index]\n",
    "label = labels[label_num_for_image]\n",
    "label\n",
    "helper.show_image(train_images[random_index],label)\n",
    "\"\"\"\n",
    "images = []\n",
    "letters = []\n",
    "letter_change_indices = []\n",
    "\n",
    "counter = 0\n",
    "total_counter = 0\n",
    "letter_limit = 1000   # Remove for final run\n",
    "for letter in enumerate(string.ascii_uppercase):\n",
    "    counter = 0\n",
    "    letter_change_indices.append(total_counter)\n",
    "    print(\"Processing\",letter[1])\n",
    "    path_folder = './Letter_Images/' + letter[1]\n",
    "    for path_image in os.listdir(path_folder):\n",
    "        path = path_folder + '/' + path_image\n",
    "        counter+=1\n",
    "        total_counter+=1\n",
    "        if counter >= letter_limit: \n",
    "             # Limit to 1000 images per letter to prevent bloating the data. Remove once all data established.\n",
    "            break\n",
    "        img = cv2.imread(path)\n",
    "        img = cv2.cvtColor(img, cv2.COLOR_BGR2RGB)\n",
    "        img = color.rgb2gray(img) # technically \n",
    "        img = np.ravel(img)\n",
    "        images.append(img)\n",
    "        letters.append(letter[1])\n",
    "print(\"Total Images Processed:\",total_counter)\n",
    "X = np.array(images)\n",
    "y = np.array(letters)\n",
    "h, x = (28, 28)\n",
    "# Split training and testing data now\n",
    "X_train, X_test, y_train, y_test = train_test_split(X,y,test_size=0.2,random_state=0)"
   ]
  },
  {
   "cell_type": "markdown",
   "metadata": {},
   "source": [
    "This shows that the dataset has been loaded correctly.\n",
    "\n",
    "Preview some random images from the training set."
   ]
  },
  {
   "cell_type": "code",
   "execution_count": 3,
   "metadata": {},
   "outputs": [
    {
     "data": {
      "image/png": "[encoded data removed]",
      "text/plain": [
       "<Figure size 734.4x662.4 with 24 Axes>"
      ]
     },
     "metadata": {},
     "output_type": "display_data"
    }
   ],
   "source": [
    "# Let's look at a few more images with labels\n",
    "def plot_gallery(images, titles,labels, h=28, w=28, n_row=4, n_col=6, uselabels=True):\n",
    "    \"\"\"Helper function to plot a gallery of items\"\"\"\n",
    "    plt.figure(figsize=(1.7 * n_col, 2.3 * n_row))\n",
    "    plt.subplots_adjust(bottom=0, left=.01, right=.99, top=.90, hspace=.35)\n",
    "    for i in range(n_row * n_col):\n",
    "        plt.subplot(n_row, n_col, i + 1)\n",
    "        index = letter_change_indices[i]\n",
    "        plt.imshow(images[index].reshape((h, w)), cmap=plt.cm.gray)\n",
    "        if(uselabels):\n",
    "            plt.title(labels[index], size=12)\n",
    "        else:\n",
    "            plt.title(titles[index], size=12)\n",
    "        plt.xticks(())\n",
    "        plt.yticks(())\n",
    "        \n",
    "plot_gallery(X, y, letters, 28, 28)# defaults to showing a 3 by 6 subset of the images"
   ]
  },
  {
   "cell_type": "markdown",
   "metadata": {},
   "source": [
    "## 2. Evaluation\n",
    "\n",
    "### 2.1 Evaluate metric\n",
    "\n",
    "Let's first take a look at the number of instances in each class within training data. "
   ]
  },
  {
   "cell_type": "code",
   "execution_count": 4,
   "metadata": {},
   "outputs": [
    {
     "data": {
      "image/png": "[encoded data removed]",
      "text/plain": [
       "<Figure size 720x432 with 1 Axes>"
      ]
     },
     "metadata": {
      "needs_background": "light"
     },
     "output_type": "display_data"
    }
   ],
   "source": [
    "u, class_counts = np.unique(letters, return_counts=True)\n",
    "y_pos = np.arange(len(class_counts))\n",
    "fig, ax = plt.subplots(figsize=(10,6))\n",
    "plt.bar(y_pos, class_counts ,align='center', alpha=0.5)\n",
    "plt.xticks(y_pos, [x for x in np.unique(letters)])\n",
    "plt.ylabel('Number of instances')\n",
    "plt.xlabel('Classes')\n",
    "plt.show()"
   ]
  },
  {
   "cell_type": "markdown",
   "metadata": {},
   "source": [
    "<p>All the classes that reach 1000 were limited to 1000 manually to prevent dataset bloating as well as keeping class distributions even, because multiple letters (F, I) had far fewer examples than some other letters.</p>\n"
   ]
  },
  {
   "cell_type": "markdown",
   "metadata": {},
   "source": [
    "<h1>2.2: Evaluation Methodology</h1>\n",
    "<p>We are going to be using stratified 10-fold validation for this model because the amount of data (26000 images) is on the smaller side, so we want to prevent as much overfitting and training biases as we can. To evaluate our models, we use accuracy score, because we want to track the performance over a series of letters by the model. We care mostly about the true postive rate, but don't really care enough about false positives to switch over to a more critical model like precision score or f1 score.</p>"
   ]
  },
  {
   "cell_type": "markdown",
   "metadata": {},
   "source": [
    "## Model (Multi layer perceptron)\n",
    "\n",
    "### 3.1 Model with one hidden layer"
   ]
  },
  {
   "cell_type": "code",
   "execution_count": 5,
   "metadata": {},
   "outputs": [],
   "source": [
    "from scipy.special import expit\n",
    "class TwoLayerPerceptronBase(object):\n",
    "    def __init__(self, n_hidden=30,\n",
    "                 C=0.0, epochs=500, eta=0.001, random_state=None,\n",
    "                firstLayerActivationFunction = 'sigmoid',\n",
    "                costFunction = 'quadratic'):# Edit by Zheng Li\n",
    "        np.random.seed(random_state)\n",
    "        self.n_hidden = n_hidden\n",
    "        self.l2_C = C\n",
    "        self.epochs = epochs\n",
    "        self.eta = eta\n",
    "        self.firstLayerActivationFunction = firstLayerActivationFunction  # Edit by Zheng Li\n",
    "        self.costFunction = costFunction\n",
    "    @staticmethod\n",
    "    def _encode_labels(y):\n",
    "        \"\"\"Encode labels into one-hot representation\"\"\"\n",
    "        onehot = pd.get_dummies(y).values.T\n",
    "            \n",
    "        return onehot\n",
    "\n",
    "    def _initialize_weights(self):\n",
    "        \"\"\"Initialize weights with small random numbers.\"\"\"\n",
    "        W1_num_elems = (self.n_features_ + 1)*self.n_hidden\n",
    "        W1 = np.random.uniform(-1.0, 1.0, size=W1_num_elems)\n",
    "        W1 = W1.reshape(self.n_hidden, self.n_features_ + 1) # reshape to be W\n",
    "        \n",
    "        W2_num_elems = (self.n_hidden + 1)*self.n_output_\n",
    "        W2 = np.random.uniform(-1.0, 1.0, size=W2_num_elems)\n",
    "        W2 = W2.reshape(self.n_output_, self.n_hidden + 1)\n",
    "        return W1, W2\n",
    "    \n",
    "    @staticmethod\n",
    "    def _sigmoid(z):\n",
    "        \"\"\"Use scipy.special.expit to avoid overflow\"\"\"\n",
    "        # 1.0 / (1.0 + np.exp(-z))\n",
    "        return expit(z)\n",
    "    \n",
    "    @staticmethod\n",
    "    def _add_bias_unit(X, how='column'):\n",
    "        \"\"\"Add bias unit (column or row of 1s) to array at index 0\"\"\"\n",
    "        if how == 'column':\n",
    "            ones = np.ones((X.shape[0], 1))\n",
    "            X_new = np.hstack((ones, X))\n",
    "        elif how == 'row':\n",
    "            ones = np.ones((1, X.shape[1]))\n",
    "            X_new = np.vstack((ones, X))\n",
    "        return X_new\n",
    "    \n",
    "    @staticmethod\n",
    "    def _L2_reg(lambda_, W1, W2):\n",
    "        \"\"\"Compute L2-regularization cost\"\"\"\n",
    "        # only compute for non-bias terms\n",
    "        return (lambda_/2.0) * np.sqrt(np.mean(W1[:, 1:] ** 2) + np.mean(W2[:, 1:] ** 2))\n",
    "    \n",
    "    def _cost(self,A3,Y_enc,W1,W2):\n",
    "        '''Get the objective function value'''\n",
    "        if self.costFunction =='quadratic':\n",
    "            cost = np.mean((Y_enc-A3)**2)\n",
    "        elif self.costFunction =='cross entropy':\n",
    "            cost = -[Y_enc*math.log(A3)+(1-Y_enc)*math.log(1-A3)]    \n",
    "        L2_term = self._L2_reg(self.l2_C, W1, W2)\n",
    "        return cost + L2_term"
   ]
  },
  {
   "cell_type": "code",
   "execution_count": 6,
   "metadata": {},
   "outputs": [],
   "source": [
    "class TwoLayerPerceptron(TwoLayerPerceptronBase):\n",
    "    def _feedforward(self, X, W1, W2):\n",
    "        \"\"\"Compute feedforward step\n",
    "        -----------\n",
    "        X : Input layer with original features.\n",
    "        W1: Weight matrix for input layer -> hidden layer.\n",
    "        W2: Weight matrix for hidden layer -> output layer.\n",
    "        ----------\n",
    "        a1-a3 : activations into layer (or output layer)\n",
    "        z1-z2 : layer inputs \n",
    "\n",
    "        \"\"\"\n",
    "        A1 = self._add_bias_unit(X, how='column')\n",
    "        Z1 = W1 @ A1.T\n",
    "        if self.firstLayerActivationFunction =='sigmoid': # Edit by Zheng Li\n",
    "            A2 = self._sigmoid(Z1)\n",
    "        elif self.firstLayerActivationFunction =='linear':# Edit by Zheng Li\n",
    "            A2 = Z1  \n",
    "        A2 = self._add_bias_unit(A2, how='row')\n",
    "        Z2 = W2 @ A2\n",
    "        A3 = self._sigmoid(Z2)\n",
    "        return A1, Z1, A2, Z2, A3\n",
    "    \n",
    "    def _get_gradient(self, A1, A2, A3, Z1, Z2, Y_enc, W1, W2):\n",
    "        \"\"\" Compute gradient step using backpropagation.\n",
    "        \"\"\"\n",
    "        # backpropagation\n",
    "        grad1 = np.zeros(W1.shape)\n",
    "        grad2 = np.zeros(W2.shape)\n",
    "        \n",
    "        # for each instance's activations \n",
    "        for (a1,a2,a3,y) in zip(A1,A2.T,A3.T,Y_enc.T):\n",
    "            dJ_dz2 = -2*(y - a3)*a3*(1-a3)\n",
    "            dJ_dz1 = dJ_dz2 @ W2 @ np.diag(a2*(1-a2))\n",
    "            grad2 += dJ_dz2[:,np.newaxis]  @ a2[np.newaxis,:]\n",
    "            grad1 += dJ_dz1[1:,np.newaxis] @ a1[np.newaxis,:] \n",
    "            # don't incorporate bias term in the z1 gradient \n",
    "            # (its added in a2 from another layer)\n",
    "            \n",
    "\n",
    "        # regularize weights that are not bias terms\n",
    "        grad1[:, 1:] += (W1[:, 1:] * self.l2_C)\n",
    "        grad2[:, 1:] += (W2[:, 1:] * self.l2_C)\n",
    "\n",
    "        return grad1, grad2\n",
    "    \n",
    "    def predict(self, X):\n",
    "        \"\"\"Predict class labels\"\"\"\n",
    "        _, _, _, _, A3 = self._feedforward(X, self.W1, self.W2)\n",
    "        y_pred = np.argmax(A3, axis=0)\n",
    "        return y_pred\n",
    "    \n",
    "    \n",
    "    def fit(self, X, y, print_progress=False):\n",
    "        \"\"\" Learn weights from training data.\"\"\"\n",
    "        \n",
    "        X_data, y_data = X.copy(), y.copy()\n",
    "        Y_enc = self._encode_labels(y)\n",
    "        \n",
    "        # init weights and setup matrices\n",
    "        self.n_features_ = X_data.shape[1]\n",
    "        self.n_output_ = Y_enc.shape[0]\n",
    "        self.W1, self.W2 = self._initialize_weights()\n",
    "        \n",
    "        self.grad_w1_ = np.zeros((self.epochs))\n",
    "        self.grad_w2_ = np.zeros((self.epochs))\n",
    "\n",
    "        self.cost_ = []\n",
    "        for i in range(self.epochs):\n",
    "\n",
    "            if print_progress>0 and (i+1)%print_progress==0:\n",
    "                sys.stderr.write('\\rEpoch: %d/%d' % (i+1, self.epochs))\n",
    "                sys.stderr.flush()\n",
    "\n",
    "            # feedforward all instances\n",
    "            A1, Z1, A2, Z2, A3 = self._feedforward(X_data,self.W1,self.W2)\n",
    "            \n",
    "            cost = self._cost(A3,Y_enc,self.W1,self.W2)\n",
    "            self.cost_.append(cost)\n",
    "\n",
    "            # compute gradient via backpropagation\n",
    "            grad1, grad2 = self._get_gradient(A1=A1, A2=A2, A3=A3, Z1=Z1, Z2=Z2, Y_enc=Y_enc,\n",
    "                                              W1=self.W1, W2=self.W2)\n",
    "            \n",
    "            self.grad_w1_[i] = np.mean(np.absolute(grad1))\n",
    "            self.grad_w2_[i] = np.mean(np.absolute(grad2))\n",
    "\n",
    "            self.W1 -= self.eta * grad1\n",
    "            self.W2 -= self.eta * grad2\n",
    "            \n",
    "\n",
    "        return self\n",
    "    \n",
    "    def get_gradients(self):\n",
    "        return self.grad_w1_, self.grad_w2_"
   ]
  },
  {
   "cell_type": "code",
   "execution_count": 7,
   "metadata": {},
   "outputs": [],
   "source": [
    "class TwoLayerPerceptronVectorized(TwoLayerPerceptron):\n",
    "    # just need a different gradient calculation\n",
    "    def _get_gradient(self, A1, A2, A3, Z1, Z2, Y_enc, W1, W2):\n",
    "        \"\"\" Compute gradient step using backpropagation.\n",
    "        \"\"\"\n",
    "        if self.costFunction =='quadratic':\n",
    "            sigma2 = -2*(Y_enc-A3)*A3*(1-A3)\n",
    "        elif self.costFunction =='cross entropy':\n",
    "            sigma2 = (A3-Y_enc)\n",
    "            # vectorized backpropagation   \n",
    "        grad2 = sigma2 @ A2.T\n",
    "\n",
    "        sigma1 = (W2.T @ sigma2)*A2*(1-A2)\n",
    "        grad1 = sigma1[1:,:] @ A1\n",
    "        \n",
    "        \n",
    "        # regularize weights that are not bias terms\n",
    "        grad1[:, 1:] += W1[:, 1:] * self.l2_C\n",
    "        grad2[:, 1:] += W2[:, 1:] * self.l2_C\n",
    "\n",
    "        return grad1, grad2"
   ]
  },
  {
   "cell_type": "code",
   "execution_count": 8,
   "metadata": {},
   "outputs": [],
   "source": [
    "class ThreeLayerPerceptronBase(object):\n",
    "    def __init__(self, n_hidden1=60, n_hidden2=30,\n",
    "                 C=0.0, epochs=500, eta=0.001, random_state=None,\n",
    "                firstLayerActivationFunction = 'sigmoid',\n",
    "                secondLayerActivationFunction = 'sigmoid',\n",
    "                costFunction = 'quadratic'):\n",
    "        np.random.seed(random_state)\n",
    "        self.n_hidden1 = n_hidden1\n",
    "        self.n_hidden2 = n_hidden2\n",
    "        self.l2_C = C\n",
    "        self.epochs = epochs\n",
    "        self.eta = eta\n",
    "        self.firstLayerActivationFunction = firstLayerActivationFunction  # Edit by Zheng Li\n",
    "        self.secondLayerActivationFunction = secondLayerActivationFunction\n",
    "        self.costFunction = 'quadratic'\n",
    "    @staticmethod\n",
    "    def _encode_labels(y):\n",
    "        \"\"\"Encode labels into one-hot representation\"\"\"\n",
    "        onehot = pd.get_dummies(y).values.T\n",
    "            \n",
    "        return onehot\n",
    "\n",
    "    def _initialize_weights(self):\n",
    "        \"\"\"Initialize weights with small random numbers.\"\"\"\n",
    "        W1_num_elems = (self.n_features_ + 1)*self.n_hidden1\n",
    "        W1 = np.random.uniform(-1.0, 1.0, size=W1_num_elems)\n",
    "        W1 = W1.reshape(self.n_hidden1, self.n_features_ + 1) # reshape to be W\n",
    "        \n",
    "        W2_num_elems = (self.n_hidden1 + 1)*self.n_hidden2\n",
    "        W2 = np.random.uniform(-1.0, 1.0, size=W2_num_elems)\n",
    "        W2 = W2.reshape(self.n_hidden2, self.n_hidden1 + 1) # reshape to be W\n",
    "        \n",
    "        W3_num_elems = (self.n_hidden2 + 1)*self.n_output_\n",
    "        W3 = np.random.uniform(-1.0, 1.0, size=W3_num_elems)\n",
    "        W3 = W3.reshape(self.n_output_, self.n_hidden2 + 1)\n",
    "        \n",
    "        return W1, W2, W3\n",
    "    \n",
    "    @staticmethod\n",
    "    def _sigmoid(z):\n",
    "        \"\"\"Use scipy.special.expit to avoid overflow\"\"\"\n",
    "        # 1.0 / (1.0 + np.exp(-z))\n",
    "        return expit(z)\n",
    "    \n",
    "    @staticmethod\n",
    "    def _add_bias_unit(X, how='column'):\n",
    "        \"\"\"Add bias unit (column or row of 1s) to array at index 0\"\"\"\n",
    "        if how == 'column':\n",
    "            ones = np.ones((X.shape[0], 1))\n",
    "            X_new = np.hstack((ones, X))\n",
    "        elif how == 'row':\n",
    "            ones = np.ones((1, X.shape[1]))\n",
    "            X_new = np.vstack((ones, X))\n",
    "        return X_new\n",
    "    \n",
    "    @staticmethod\n",
    "    def _L2_reg(lambda_, W1, W2, W3):\n",
    "        \"\"\"Compute L2-regularization cost\"\"\"\n",
    "        # only compute for non-bias terms\n",
    "        return (lambda_/2.0) * np.sqrt(np.mean(W1[:, 1:] ** 2) + np.mean(W2[:, 1:] ** 2) + np.mean(W3[:, 1:] ** 2))\n",
    "    \n",
    "    def _cost(self,A4,Y_enc,W1,W2,W3):\n",
    "        '''Get the objective function value'''\n",
    "        \n",
    "        if self.costFunction =='quadratic':\n",
    "            cost = np.mean((Y_enc-A4)**2)\n",
    "        elif self.costFunction =='cross entropy':\n",
    "            cost = -[Y_enc*math.log(A4)+(1-Y_enc)*math.log(1-A4)]    \n",
    "#         cost = np.mean((Y_enc-A3)**2)\n",
    "        L2_term = self._L2_reg(self.l2_C, W1, W2, W3)\n",
    "        return cost + L2_term"
   ]
  },
  {
   "cell_type": "code",
   "execution_count": 9,
   "metadata": {},
   "outputs": [],
   "source": [
    "class ThreeLayerPerceptron(ThreeLayerPerceptronBase):\n",
    "    \n",
    "    def _feedforward(self, X, W1, W2, W3):\n",
    "        \"\"\"Compute feedforward step\n",
    "        -----------\n",
    "        X : Input layer with original features.\n",
    "        W1: Weight matrix for input layer -> hidden layer1.\n",
    "        W2: Weight matrix for hidden layer1 -> hidden layer2\n",
    "        W3: Weight matrix for hidden layer2 -> output layer.\n",
    "        ----------\n",
    "        A1-A4 : activations into layer (or output layer)\n",
    "        Z1-Z3 : layer inputs \n",
    "\n",
    "        \"\"\"\n",
    "        A1 = self._add_bias_unit(X, how='column')\n",
    "        Z1 = W1 @ A1.T\n",
    "        if self.firstLayerActivationFunction =='sigmoid': # Edit by Zheng Li\n",
    "            A2 = self._sigmoid(Z1)\n",
    "        elif self.firstLayerActivationFunction =='linear':# Edit by Zheng Li\n",
    "            A2 = Z1  \n",
    "        A2 = self._add_bias_unit(A2, how='row')\n",
    "        Z2 = W2 @ A2\n",
    "        if self.secondLayerActivationFunction =='sigmoid': # Edit by Zheng Li\n",
    "            A3 = self._sigmoid(Z2)\n",
    "        elif self.secondLayerActivationFunction =='linear':# Edit by Zheng Li\n",
    "            A3 = Z2\n",
    "        \n",
    "        A3 = self._add_bias_unit(A3, how='row')\n",
    "        Z3 = W3 @ A3\n",
    "        A4 = self._sigmoid(Z3)\n",
    "        \n",
    "        return A1, Z1, A2, Z2, A3, Z3, A4\n",
    "    \n",
    "    def _get_gradient(self, A1, A2, A3, A4, Z1, Z2, Z3, Y_enc, W1, W2, W3):\n",
    "        \"\"\" Compute gradient step using backpropagation.\n",
    "        \"\"\"\n",
    "        # backpropagation\n",
    "        grad1 = np.zeros(W1.shape)\n",
    "        grad2 = np.zeros(W2.shape)\n",
    "        grad3 = np.zeros(W3.shape)\n",
    "\n",
    "        # for each instance's activations \n",
    "        for (a1,a2,a3,a4,y) in zip(A1,A2.T,A3.T,A4.T,Y_enc.T):\n",
    "            dJ_dz3 = -2*(y - a4)*a4*(1-a4)\n",
    "            dJ_dz2 = dJ_dz3 @ W3 @ np.diag(a3*(1-a3))\n",
    "            dJ_dz1 = dJ_dz2[1:]@ W2 @ np.diag(a2*(1-a2))\n",
    "            \n",
    "            grad3 += dJ_dz3[:,np.newaxis]  @ a3[np.newaxis,:]\n",
    "            grad2 += dJ_dz2[1:,np.newaxis] @ a2[np.newaxis,:]\n",
    "            grad1 += dJ_dz1[1:,np.newaxis] @ a1[np.newaxis,:] \n",
    "            # don't incorporate bias term in the z1 gradient \n",
    "            # (its added in a2 from another layer)\n",
    "            \n",
    "\n",
    "        # regularize weights that are not bias terms\n",
    "        grad1[:, 1:] += (W1[:, 1:] * self.l2_C)\n",
    "        grad2[:, 1:] += (W2[:, 1:] * self.l2_C)\n",
    "        grad3[:, 1:] += (W3[:, 1:] * self.l2_C)\n",
    "        \n",
    "        return grad1, grad2, grad3\n",
    "    \n",
    "    def predict(self, X):\n",
    "        \"\"\"Predict class labels\"\"\"\n",
    "        _, _, _, _, _, _, A4 = self._feedforward(X, self.W1, self.W2, self.W3)\n",
    "        y_pred = np.argmax(A4, axis=0)\n",
    "        return y_pred\n",
    "    \n",
    "    \n",
    "    def fit(self, X, y, print_progress=False):\n",
    "        \"\"\" Learn weights from training data.\"\"\"\n",
    "        \n",
    "        X_data, y_data = X.copy(), y.copy()\n",
    "        Y_enc = self._encode_labels(y)\n",
    "        \n",
    "        # init weights and setup matrices\n",
    "        self.n_features_ = X_data.shape[1]\n",
    "        self.n_output_ = Y_enc.shape[0]\n",
    "        self.W1, self.W2, self.W3 = self._initialize_weights()\n",
    "        self.grad_w1_ = np.zeros((self.epochs))\n",
    "        self.grad_w2_ = np.zeros((self.epochs))\n",
    "        self.grad_w3_ = np.zeros((self.epochs))\n",
    "\n",
    "        self.cost_ = []\n",
    "        for i in range(self.epochs):\n",
    "\n",
    "            if print_progress>0 and (i+1)%print_progress==0:\n",
    "                sys.stderr.write('\\rEpoch: %d/%d' % (i+1, self.epochs))\n",
    "                sys.stderr.flush()\n",
    "\n",
    "            # feedforward all instances\n",
    "            A1, Z1, A2, Z2, A3, Z3, A4 = self._feedforward(X_data,self.W1,self.W2,self.W3)\n",
    "            \n",
    "            cost = self._cost(A4,Y_enc,self.W1,self.W2,self.W3)\n",
    "            self.cost_.append(cost)\n",
    "\n",
    "            # compute gradient via backpropagation\n",
    "            grad1, grad2, grad3 = self._get_gradient(A1=A1, A2=A2, A3=A3, A4=A4, Z1=Z1, Z2=Z2, Z3=Z3, Y_enc=Y_enc,\n",
    "                                              W1=self.W1, W2=self.W2, W3=self.W3)\n",
    "            \n",
    "            self.grad_w1_[i] = np.mean(np.absolute(grad1))\n",
    "            self.grad_w2_[i] = np.mean(np.absolute(grad2))\n",
    "            self.grad_w3_[i] = np.mean(np.absolute(grad3))\n",
    "            \n",
    "            self.W1 -= self.eta * grad1\n",
    "            self.W2 -= self.eta * grad2\n",
    "            self.W3 -= self.eta * grad3\n",
    "            \n",
    "\n",
    "        return self\n",
    "    \n",
    "    def get_gradients(self):\n",
    "        return self.grad_w1_, self.grad_w2_, self.grad_w3_"
   ]
  },
  {
   "cell_type": "code",
   "execution_count": 10,
   "metadata": {},
   "outputs": [],
   "source": [
    "class ThreeLayerPerceptronVectorized(ThreeLayerPerceptron):\n",
    "    # just need a different gradient calculation\n",
    "    def _get_gradient(self, A1, A2, A3, A4, Z1, Z2, Z3, Y_enc, W1, W2, W3):\n",
    "        \"\"\" Compute gradient step using backpropagation.\n",
    "        \"\"\"\n",
    "        if self.costFunction =='quadratic':\n",
    "            sigma3 = -2*(Y_enc-A4)*A4*(1-A4)\n",
    "        elif self.costFunction =='cross entropy':\n",
    "            sigma3 = (A4-Y_enc)\n",
    "            # vectorized backpropagation   \n",
    "        grad3 = sigma3 @ A3.T\n",
    "        \n",
    "        sigma2 = (W3.T @ sigma3)*A3*(1-A3)\n",
    "        grad2 = sigma2[1:,:] @ A2.T\n",
    "        \n",
    "        sigma1 = (W2.T @ sigma2[1:,:])*A2*(1-A2)\n",
    "        grad1 = sigma1[1:,:] @ A1\n",
    "        \n",
    "        \n",
    "        # regularize weights that are not bias terms\n",
    "        grad1[:, 1:] += W1[:, 1:] * self.l2_C\n",
    "        grad2[:, 1:] += W2[:, 1:] * self.l2_C\n",
    "        grad3[:, 1:] += W3[:, 1:] * self.l2_C\n",
    "\n",
    "        return grad1, grad2, grad3\n",
    "    "
   ]
  },
  {
   "cell_type": "markdown",
   "metadata": {},
   "source": [
    "### 3.2 Parameter tuning"
   ]
  },
  {
   "cell_type": "code",
   "execution_count": 11,
   "metadata": {},
   "outputs": [],
   "source": [
    "from sklearn.model_selection import train_test_split\n",
    "\n",
    "\n",
    "params = dict(n_hidden = 50,\n",
    "              C=0.01, # tradeoff L2 regularizer\n",
    "              epochs=100, # iterations\n",
    "              eta=0.0001,  # learning rate\n",
    "              random_state=1,\n",
    "              firstLayerActivationFunction='sigmoid',\n",
    "              # secondLayerActivationFunction='sigmoid',\n",
    "              costFunction = 'quadratic')"
   ]
  },
  {
   "cell_type": "code",
   "execution_count": 12,
   "metadata": {},
   "outputs": [
    {
     "name": "stdout",
     "output_type": "stream",
     "text": [
      "Accuracy score of: 0.18623676612127046\n"
     ]
    }
   ],
   "source": [
    "# Keep the original x_test and y_test to separate test and validation\n",
    "X_val_train, X_val_test, y_val_train, y_val_test = train_test_split(X_train, y_train, test_size=0.2, random_state=0)\n",
    "\n",
    "pipe_lr = Pipeline([('scl', StandardScaler()),\n",
    "                    ('pca', RandomizedPCA(n_components=400,random_state=1)),\n",
    "                    ('clf', TwoLayerPerceptronVectorized(**params))])\n",
    "\n",
    "pipe_lr.fit(X_val_train, y_val_train)\n",
    "y_pred = pipe_lr.predict(X_val_test)\n",
    "y_pred_letters = []\n",
    "for i in y_pred:\n",
    "    y_pred_letters.append(u[i])\n",
    "print(\"Accuracy score of:\",accuracy_score(y_val_test,y_pred_letters))"
   ]
  },
  {
   "cell_type": "code",
   "execution_count": 13,
   "metadata": {},
   "outputs": [
    {
     "name": "stdout",
     "output_type": "stream",
     "text": [
      "Accuracy score of: 0.033 for learning rate: 0.100000\n",
      "Accuracy score of: 0.040 for learning rate: 0.010000\n",
      "Accuracy score of: 0.051 for learning rate: 0.001000\n",
      "Accuracy score of: 0.186 for learning rate: 0.000100\n",
      "Accuracy score of: 0.060 for learning rate: 0.000010\n",
      "Accuracy score of: 0.033 for learning rate: 0.000001\n"
     ]
    }
   ],
   "source": [
    "eta = [0.1, 0.01, 0.001, 0.0001, 0.00001, 0.000001]\n",
    "score = []\n",
    "for i in eta:\n",
    "    params['eta']=i\n",
    "    pipe_lr = Pipeline([('scl', StandardScaler()),\n",
    "                    ('pca', RandomizedPCA(n_components=400,random_state=0)),\n",
    "                    ('clf', TwoLayerPerceptronVectorized(**params))])\n",
    "\n",
    "    pipe_lr.fit(X_val_train, y_val_train)\n",
    "    y_pred = pipe_lr.predict(X_val_test)\n",
    "    y_pred_letters = []\n",
    "    for ii in y_pred:\n",
    "        y_pred_letters.append(u[ii])\n",
    "    scr = accuracy_score(y_val_test,y_pred_letters)\n",
    "    score.append(scr)\n",
    "    print(\"Accuracy score of: %.3f for learning rate: %f\"%(scr,i))"
   ]
  },
  {
   "cell_type": "code",
   "execution_count": 14,
   "metadata": {},
   "outputs": [
    {
     "data": {
      "image/png": "[encoded data removed]",
      "text/plain": [
       "<Figure size 432x288 with 1 Axes>"
      ]
     },
     "metadata": {
      "needs_background": "light"
     },
     "output_type": "display_data"
    }
   ],
   "source": [
    "x_ = list(i for i in range(6))\n",
    "plt.plot(score)\n",
    "plt.xticks(x_,eta)\n",
    "plt.xlabel(\"Learning rate\")\n",
    "plt.ylabel(\"Accuracy\")\n",
    "plt.title(\"Learning rate vs Accuracy\")\n",
    "plt.show()"
   ]
  },
  {
   "cell_type": "markdown",
   "metadata": {},
   "source": [
    "According to the learning rate vs Accuracy, learning rate of 0.0001 has the best performance, therefore, the following analysis will use the value of 0.0001 as learning rate. However, recognizing that the best performing learning rate is still dismally bad, hopefully one of the other tuning parameters will do better."
   ]
  },
  {
   "cell_type": "code",
   "execution_count": 15,
   "metadata": {},
   "outputs": [
    {
     "name": "stdout",
     "output_type": "stream",
     "text": [
      "Accuracy score of: 0.204 for Regularization term C: 10.000000\n",
      "Accuracy score of: 0.188 for Regularization term C: 1.000000\n",
      "Accuracy score of: 0.187 for Regularization term C: 0.100000\n",
      "Accuracy score of: 0.186 for Regularization term C: 0.010000\n",
      "Accuracy score of: 0.186 for Regularization term C: 0.001000\n",
      "Accuracy score of: 0.186 for Regularization term C: 0.000100\n"
     ]
    }
   ],
   "source": [
    "C = [10,1, 0.1, 0.01, 0.001, 0.0001]\n",
    "params['eta'] = 0.0001\n",
    "score = []\n",
    "for i in C:\n",
    "    params['C']=i\n",
    "    pipe_lr = Pipeline([('scl', StandardScaler()),\n",
    "                    ('pca', RandomizedPCA(n_components=400,random_state=1)),\n",
    "                    ('clf', TwoLayerPerceptronVectorized(**params))])\n",
    "    pipe_lr.fit(X_val_train, y_val_train)\n",
    "    y_pred = pipe_lr.predict(X_val_test)\n",
    "    y_pred_letters = []\n",
    "    for ii in y_pred:\n",
    "        y_pred_letters.append(u[ii])\n",
    "    scr = accuracy_score(y_val_test,y_pred_letters)\n",
    "    score.append(scr)\n",
    "    print(\"Accuracy score of: %.3f for Regularization term C: %f\"%(scr,i))"
   ]
  },
  {
   "cell_type": "code",
   "execution_count": 16,
   "metadata": {},
   "outputs": [
    {
     "data": {
      "image/png": "[encoded data removed]",
      "text/plain": [
       "<Figure size 432x288 with 1 Axes>"
      ]
     },
     "metadata": {
      "needs_background": "light"
     },
     "output_type": "display_data"
    }
   ],
   "source": [
    "x_ = list(i for i in range(6))\n",
    "plt.plot(score)\n",
    "plt.xticks(x_,C)\n",
    "plt.xlabel(\"C\")\n",
    "plt.ylabel(\"Accuracy\")\n",
    "plt.title(\"C vs Accuracy\")\n",
    "plt.show()"
   ]
  },
  {
   "cell_type": "markdown",
   "metadata": {},
   "source": [
    "According to the C vs Accuracy, C =10 has the best performance, therefore, the following analysis will use the value of 10 as regularization term"
   ]
  },
  {
   "cell_type": "code",
   "execution_count": 17,
   "metadata": {},
   "outputs": [
    {
     "name": "stdout",
     "output_type": "stream",
     "text": [
      "Test Accuracy: 0.204 Validation Accuracy: 0.194 for Epochs: 100\n",
      "Test Accuracy: 0.334 Validation Accuracy: 0.319 for Epochs: 200\n",
      "Test Accuracy: 0.444 Validation Accuracy: 0.433 for Epochs: 300\n",
      "Test Accuracy: 0.562 Validation Accuracy: 0.556 for Epochs: 400\n",
      "Test Accuracy: 0.640 Validation Accuracy: 0.635 for Epochs: 500\n",
      "Test Accuracy: 0.725 Validation Accuracy: 0.730 for Epochs: 600\n",
      "Test Accuracy: 0.761 Validation Accuracy: 0.769 for Epochs: 700\n",
      "Test Accuracy: 0.785 Validation Accuracy: 0.797 for Epochs: 800\n",
      "Test Accuracy: 0.805 Validation Accuracy: 0.811 for Epochs: 900\n",
      "Test Accuracy: 0.821 Validation Accuracy: 0.820 for Epochs: 1000\n"
     ]
    }
   ],
   "source": [
    "params = dict(n_hidden = 50,\n",
    "              C=10, # tradeoff L2 regularizer\n",
    "              epochs=100, # iterations\n",
    "              eta=0.0001,  # learning rate\n",
    "              random_state=1,\n",
    "              firstLayerActivationFunction='sigmoid',\n",
    "              # secondLayerActivationFunction='sigmoid',\n",
    "              costFunction = 'quadratic')\n",
    "\n",
    "epochs = [100, 200, 300, 400, 500, 600, 700, 800, 900, 1000]\n",
    "score_test = []\n",
    "score_val = []\n",
    "\n",
    "for i in epochs:\n",
    "    params['epochs']=i\n",
    "    pipe_lr = Pipeline([('scl', StandardScaler()),\n",
    "                    ('pca', RandomizedPCA(n_components=400,random_state=1)),\n",
    "                    ('clf', TwoLayerPerceptronVectorized(**params))])\n",
    "    pipe_lr.fit(X_val_train, y_val_train)\n",
    "    y_pred = pipe_lr.predict(X_val_test)\n",
    "    y_pred_letters = []\n",
    "    for ii in y_pred:\n",
    "        y_pred_letters.append(u[ii])\n",
    "    # Validation not testing accuracy now\n",
    "    y_pred_val = pipe_lr.predict(X_test)\n",
    "    y_pred_val_letters = []\n",
    "    for ii in y_pred_val:\n",
    "        y_pred_val_letters.append(u[ii])\n",
    "    test_scr = accuracy_score(y_val_test,y_pred_letters)\n",
    "    val_scr = accuracy_score(y_test,y_pred_val_letters)\n",
    "    score_test.append(test_scr)\n",
    "    score_val.append(val_scr)\n",
    "    print(\"Test Accuracy: %.3f Validation Accuracy: %.3f for Epochs: %i\"%(test_scr, val_scr, i))"
   ]
  },
  {
   "cell_type": "code",
   "execution_count": 18,
   "metadata": {},
   "outputs": [
    {
     "data": {
      "image/png": "[encoded data removed]",
      "text/plain": [
       "<Figure size 432x288 with 1 Axes>"
      ]
     },
     "metadata": {
      "needs_background": "light"
     },
     "output_type": "display_data"
    }
   ],
   "source": [
    "x_ = list(i for i in range(10))\n",
    "plt.plot(score_test)\n",
    "plt.plot(score_val)\n",
    "plt.xticks(x_,epochs)\n",
    "plt.xlabel(\"Epoch\")\n",
    "plt.ylabel(\"Accuracy\")\n",
    "plt.title(\"Epochs vs Accuracy\")\n",
    "plt.legend([\"Test\",\"Validation\"])\n",
    "plt.show()"
   ]
  },
  {
   "cell_type": "code",
   "execution_count": 19,
   "metadata": {},
   "outputs": [
    {
     "name": "stdout",
     "output_type": "stream",
     "text": [
      "Wall time: 1min 45s\n",
      "Accuracy score of:  0.8340712223291626 for 2 layer perceptron.\n",
      "Wall time: 3min 18s\n",
      "Accuracy score of:  0.8333012512030799 for 3 layer perceptron.\n"
     ]
    }
   ],
   "source": [
    "# Testing 2-Layer vs 3-Layer\n",
    "params2 = dict(n_hidden = 50,\n",
    "              C=10, # tradeoff L2 regularizer\n",
    "              epochs=1000, # iterations\n",
    "              eta=0.0001,  # learning rate\n",
    "              random_state=1,\n",
    "              firstLayerActivationFunction='sigmoid',\n",
    "              costFunction = 'quadratic')\n",
    "\n",
    "params3 = dict(n_hidden1=128,\n",
    "               n_hidden2= 64,\n",
    "              C=10, # tradeoff L2 regularizer\n",
    "              epochs=1000, # iterations\n",
    "              eta=0.0001,  # learning rate\n",
    "              random_state=1,\n",
    "              firstLayerActivationFunction='sigmoid',\n",
    "              secondLayerActivationFunction='sigmoid',\n",
    "              costFunction = 'quadratic')\n",
    "\n",
    "pipe_lr_2 = Pipeline([('scl', StandardScaler()),\n",
    "                    ('pca', RandomizedPCA(n_components=400,random_state=1)),\n",
    "                    ('clf', TwoLayerPerceptronVectorized(**params2))])\n",
    "\n",
    "%time pipe_lr_2.fit(X_train, y_train)\n",
    "y_pred = pipe_lr_2.predict(X_test)\n",
    "y_pred_letters = []\n",
    "for i in y_pred:\n",
    "    y_pred_letters.append(u[i])\n",
    "print(\"Accuracy score of: \",accuracy_score(y_test,y_pred_letters),\"for 2 layer perceptron.\")\n",
    "\n",
    "pipe_lr_3 = Pipeline([('scl', StandardScaler()),\n",
    "                    ('pca', RandomizedPCA(n_components=400,random_state=1)),\n",
    "                    ('clf', ThreeLayerPerceptronVectorized(**params3))])\n",
    "\n",
    "%time pipe_lr_3.fit(X_train, y_train)\n",
    "y_pred = pipe_lr_3.predict(X_test)\n",
    "y_pred_letters = []\n",
    "for i in y_pred:\n",
    "    y_pred_letters.append(u[i])\n",
    "print(\"Accuracy score of: \",accuracy_score(y_pred_letters,y_test),\"for 3 layer perceptron.\")"
   ]
  },
  {
   "cell_type": "markdown",
   "metadata": {},
   "source": [
    "<p>In the future, we will be using the 2-layer perceptron because it is faster at little-to-no cost to accuracy. As seen above, the two layer perceptron actually out-performs the 3-layer perceptron by 0.1%, but in a much faster time.</p>"
   ]
  },
  {
   "cell_type": "markdown",
   "metadata": {},
   "source": [
    "<h1>Graphing Gradient Magnitudes</h1>"
   ]
  },
  {
   "cell_type": "code",
   "execution_count": 20,
   "metadata": {},
   "outputs": [
    {
     "data": {
      "image/png": "[encoded data removed]",
      "text/plain": [
       "<Figure size 432x288 with 2 Axes>"
      ]
     },
     "metadata": {
      "needs_background": "light"
     },
     "output_type": "display_data"
    }
   ],
   "source": [
    "w1_2, w2_2 = pipe_lr_2['clf'].get_gradients()\n",
    "w1_3, w2_3, w3_3 = pipe_lr_3['clf'].get_gradients()\n",
    "\n",
    "ax1 = plt.subplot(1,2,1)\n",
    "plt.plot(abs(w1_2[10:]), label='w1')\n",
    "plt.plot(abs(w2_2[10:]), label='w2')\n",
    "plt.legend()\n",
    "plt.ylabel('Average gradient magnitude for 2 layers')\n",
    "plt.xlabel('Iteration')\n",
    "\n",
    "ax2 = plt.subplot(1,2,2)\n",
    "plt.plot(abs(w1_3[10:]), label='w1')\n",
    "plt.plot(abs(w2_3[10:]), label='w2')\n",
    "plt.plot(abs(w3_3[10:]), label='w3')\n",
    "plt.legend()\n",
    "plt.ylabel('Average gradient magnitude for 3 layers')\n",
    "plt.xlabel('Iteration')\n",
    "plt.show()"
   ]
  },
  {
   "cell_type": "markdown",
   "metadata": {},
   "source": [
    "Awesome! The gradients all continue to minimize as epochs continue forward. "
   ]
  },
  {
   "cell_type": "code",
   "execution_count": 21,
   "metadata": {},
   "outputs": [
    {
     "name": "stdout",
     "output_type": "stream",
     "text": [
      "Fold: 1, Acc: 0.834\n",
      "Fold: 2, Acc: 0.830\n",
      "Fold: 3, Acc: 0.827\n",
      "Fold: 4, Acc: 0.824\n",
      "Fold: 5, Acc: 0.827\n",
      "Fold: 6, Acc: 0.825\n",
      "Fold: 7, Acc: 0.828\n",
      "Fold: 8, Acc: 0.826\n",
      "Fold: 9, Acc: 0.819\n",
      "Fold: 10, Acc: 0.828\n",
      "\n",
      "CV accuracy: 0.827 +/- 0.004\n"
     ]
    }
   ],
   "source": [
    "from sklearn.model_selection import StratifiedKFold\n",
    "\n",
    "kfold = StratifiedKFold(n_splits=10,\n",
    "                        random_state=1, shuffle=True).split(X, y)\n",
    "params = dict(n_hidden=50,\n",
    "              C=10, # tradeoff L2 regularizer\n",
    "              epochs=1000, # iterations\n",
    "              eta=0.0001,  # learning rate\n",
    "              random_state=1,\n",
    "              firstLayerActivationFunction='sigmoid',\n",
    "              # secondLayerActivationFunction='sigmoid',\n",
    "              costFunction = 'quadratic')\n",
    "\n",
    "pipe_lr = Pipeline([('scl', StandardScaler()),\n",
    "                    ('pca', RandomizedPCA(n_components=400,random_state=1)),\n",
    "                    ('clf', TwoLayerPerceptronVectorized(**params))])\n",
    "\n",
    "scores = []\n",
    "for k, (train, test) in enumerate(kfold):\n",
    "    pipe_lr.fit(X_train, y_train)\n",
    "    y_pred = pipe_lr.predict(X_test)\n",
    "    y_pred_letters = []\n",
    "    for i in y_pred:\n",
    "        y_pred_letters.append(u[i])\n",
    "    score = accuracy_score(y_test,y_pred_letters)\n",
    "    scores.append(score)\n",
    "    print('Fold: %s, Acc: %.3f' % (k+1, score))\n",
    "    \n",
    "print('\\nCV accuracy: %.3f +/- %.3f' % (np.mean(scores), np.std(scores)))"
   ]
  },
  {
   "cell_type": "markdown",
   "metadata": {},
   "source": [
    "### Given the best parameters, we managed to reach 82.7%+/- 0.004 test accuracy"
   ]
  },
  {
   "cell_type": "markdown",
   "metadata": {
    "collapsed": true
   },
   "source": [
    "### 3.3 Performance Comparison "
   ]
  },
  {
   "cell_type": "code",
   "execution_count": 22,
   "metadata": {},
   "outputs": [
    {
     "name": "stdout",
     "output_type": "stream",
     "text": [
      "Sci-kit Learn Implementation\n",
      "0.21.2\n",
      "Wall time: 1min 39s\n",
      "Validation Acc: 0.7990375360923966\n"
     ]
    }
   ],
   "source": [
    "from sklearn import __version__ as sklearn_version\n",
    "from sklearn.neural_network import MLPClassifier\n",
    "from sklearn.metrics import accuracy_score\n",
    "\n",
    "print(\"Sci-kit Learn Implementation\")\n",
    "print(sklearn_version)\n",
    "# these values have been hand tuned\n",
    "params = dict(hidden_layer_sizes=(50, ), \n",
    "                    activation='logistic', \n",
    "                    solver='sgd', \n",
    "                    alpha=1e-4, # L2 penalty\n",
    "                    batch_size='auto', # min of 200, num_samples\n",
    "                    learning_rate='constant', \n",
    "                    learning_rate_init=0.0001, # only SGD\n",
    "                    power_t=0.5,    # only SGD\n",
    "                    max_iter=800, \n",
    "                    shuffle=True, \n",
    "                    random_state=1, \n",
    "                    tol=1e-9, # for stopping\n",
    "                    verbose=False, \n",
    "                    warm_start=False, \n",
    "                    momentum=0.9, # only SGD\n",
    "                    nesterovs_momentum=True, # only SGD\n",
    "                    early_stopping=False, \n",
    "                    validation_fraction=0.1, # only if early_stop is true\n",
    "                    beta_1=0.9, # adam decay rate of moment\n",
    "                    beta_2=0.999, # adam decay rate of moment\n",
    "                    epsilon=1e-08) # adam numerical stabilizer\n",
    "\n",
    "pipe_lr = Pipeline([('scl', StandardScaler()),\n",
    "                    ('pca', RandomizedPCA(n_components=400,random_state=1)),\n",
    "                    ('clf', MLPClassifier(**params))])\n",
    "\n",
    "%time pipe_lr.fit(X_train,y_train)\n",
    "yhat = pipe_lr.predict(X_test)\n",
    "print('Validation Acc:',accuracy_score(y_test,yhat))"
   ]
  },
  {
   "cell_type": "code",
   "execution_count": 23,
   "metadata": {},
   "outputs": [
    {
     "name": "stdout",
     "output_type": "stream",
     "text": [
      "Our Implementation\n",
      "Wall time: 1min 44s\n",
      "Accuracy score of:  0.8340712223291626\n"
     ]
    }
   ],
   "source": [
    "print(\"Our Implementation\")\n",
    "\n",
    "params = dict(n_hidden=50,\n",
    "              C=10, # tradeoff L2 regularizer\n",
    "              epochs=1000, # iterations\n",
    "              eta=0.0001,  # learning rate\n",
    "              random_state=1,\n",
    "              firstLayerActivationFunction='sigmoid',\n",
    "              # secondLayerActivationFunction='sigmoid',\n",
    "              costFunction = 'quadratic')\n",
    "\n",
    "# X_train, X_test, y_train, y_test = train_test_split(X, y, test_size=0.20, random_state=1)\n",
    "\n",
    "pipe_lr = Pipeline([('scl', StandardScaler()),\n",
    "                    ('pca', RandomizedPCA(n_components=400,random_state=1)),\n",
    "                    ('clf', TwoLayerPerceptronVectorized(**params))])\n",
    "\n",
    "%time pipe_lr.fit(X_train, y_train)\n",
    "y_pred = pipe_lr.predict(X_test)\n",
    "y_pred_letters = []\n",
    "for i in y_pred:\n",
    "    y_pred_letters.append(u[i])\n",
    "print(\"Accuracy score of: \",accuracy_score(y_test,y_pred_letters))"
   ]
  },
  {
   "cell_type": "markdown",
   "metadata": {
    "collapsed": true
   },
   "source": [
    "The comparison between our implementation and sklearn has been conducted, our best performance reaches 83.41% on the validation set and the sklearn reaches 79.90% on the validation set. In terms of running time, our implementation used 1min 44s and sklearn used 1min 39s. In all, the sklearn barely outperforms our implementation in computational time but our performs not on accuracy. It is worth mentioning that we have used an additional layer for our MLP(three layer MLP) and the performance of our implementation could be improved further by applying optimization techniques like dropout, various activation functions, softmax, etc. "
   ]
  },
  {
   "cell_type": "markdown",
   "metadata": {},
   "source": [
    "## Exceptional work\n",
    "We all participated in the research study, which qualifies us to not have to complete this part of Lab 4."
   ]
  },
  {
   "cell_type": "code",
   "execution_count": null,
   "metadata": {},
   "outputs": [],
   "source": []
  }
 ],
 "metadata": {
  "kernelspec": {
   "display_name": "Python 3",
   "language": "python",
   "name": "python3"
  },
  "language_info": {
   "codemirror_mode": {
    "name": "ipython",
    "version": 3
   },
   "file_extension": ".py",
   "mimetype": "text/x-python",
   "name": "python",
   "nbconvert_exporter": "python",
   "pygments_lexer": "ipython3",
   "version": "3.7.4"
  }
 },
 "nbformat": 4,
 "nbformat_minor": 2
}
