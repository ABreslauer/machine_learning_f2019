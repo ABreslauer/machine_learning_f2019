{
 "cells": [
  {
   "cell_type": "markdown",
   "metadata": {},
   "source": [
    "# Machine Learning Lab 3: Extending Logistic Regression\n",
    "### Group Members: Andrew Breslauer, Camilo Villamizar\n",
    "<p>During this lab, we will be implementing our own version of sci-kit learn's logistic regression optimization, with the end goal being achieving relatively similar or improved performance.</p>"
   ]
  },
  {
   "cell_type": "markdown",
   "metadata": {},
   "source": [
    "## Part 1: Preparation and Overview "
   ]
  },
  {
   "cell_type": "markdown",
   "metadata": {},
   "source": [
    "### 1.1: Business Understanding\n",
    "<p>Dataset comes from piyushgoyal443's Red Wine dataset on Kaggle(https://www.kaggle.com/piyushgoyal443/red-wine-dataset). Each wine type is classified by various observable statistics, such as acidity, chlorides, sugar, and pH, among others. Then, each wine is ranked between 0 (very bad) and 10 (very good) by at least 3 wine \"experts\", with the median being the final score for each wine to mitigate outliers. "
   ]
  },
  {
   "cell_type": "code",
   "execution_count": null,
   "metadata": {},
   "outputs": [],
   "source": []
  },
  {
   "cell_type": "markdown",
   "metadata": {},
   "source": [
    "### 1.2: Data Preparation\n",
    "<p>Define and prepare class variables. Reduce/optimize data as needed, and describe the parameters of the final dataset.</p>"
   ]
  },
  {
   "cell_type": "code",
   "execution_count": null,
   "metadata": {},
   "outputs": [],
   "source": []
  },
  {
   "cell_type": "markdown",
   "metadata": {},
   "source": [
    "### 1.3: Divide into training and testing data\n",
    "<p>Use sci-kit learn's cross-validation modules with an 80-20 split. Argue for or against the 80-20 split, but still use an 80-20 split no matter the argument. "
   ]
  },
  {
   "cell_type": "code",
   "execution_count": null,
   "metadata": {},
   "outputs": [],
   "source": []
  },
  {
   "cell_type": "markdown",
   "metadata": {},
   "source": [
    "## Part 2: Modeling"
   ]
  },
  {
   "cell_type": "markdown",
   "metadata": {},
   "source": [
    "### 2.1: Create a 1-versus-all logisitic regression classifier.\n",
    "<p>Use example from class adding the ability to:<br>\n",
    "    - Choose optimization technique (steepest descent, stochastic gradient descent, Newton's method)<br>\n",
    "    - Update gradient calculation to include customizable regularization term (no regularization, L1, L2, L1 and L2)</p>"
   ]
  },
  {
   "cell_type": "code",
   "execution_count": null,
   "metadata": {},
   "outputs": [],
   "source": []
  },
  {
   "cell_type": "markdown",
   "metadata": {},
   "source": [
    "### 2.2: Train the classifier for good generalization performance\n",
    "<p>Hint: Do grid search optimization</p>"
   ]
  },
  {
   "cell_type": "code",
   "execution_count": null,
   "metadata": {},
   "outputs": [],
   "source": []
  },
  {
   "cell_type": "markdown",
   "metadata": {},
   "source": [
    "### 2.3: Compare best performer from self-defined to sklearn"
   ]
  },
  {
   "cell_type": "code",
   "execution_count": null,
   "metadata": {},
   "outputs": [],
   "source": []
  },
  {
   "cell_type": "markdown",
   "metadata": {},
   "source": [
    "## Part 3: Deployment"
   ]
  },
  {
   "cell_type": "markdown",
   "metadata": {},
   "source": [
    "## 3.1: Which implementation should be used?"
   ]
  },
  {
   "cell_type": "code",
   "execution_count": null,
   "metadata": {},
   "outputs": [],
   "source": []
  },
  {
   "cell_type": "markdown",
   "metadata": {},
   "source": [
    "## Part 4: Exceptional Work"
   ]
  },
  {
   "cell_type": "code",
   "execution_count": null,
   "metadata": {},
   "outputs": [],
   "source": []
  }
 ],
 "metadata": {
  "kernelspec": {
   "display_name": "Python 3",
   "language": "python",
   "name": "python3"
  },
  "language_info": {
   "codemirror_mode": {
    "name": "ipython",
    "version": 3
   },
   "file_extension": ".py",
   "mimetype": "text/x-python",
   "name": "python",
   "nbconvert_exporter": "python",
   "pygments_lexer": "ipython3",
   "version": "3.7.4"
  }
 },
 "nbformat": 4,
 "nbformat_minor": 2
}
